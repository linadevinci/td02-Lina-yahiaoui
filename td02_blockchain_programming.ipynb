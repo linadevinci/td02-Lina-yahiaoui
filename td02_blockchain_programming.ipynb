{
  "nbformat": 4,
  "nbformat_minor": 0,
  "metadata": {
    "colab": {
      "provenance": [],
      "authorship_tag": "ABX9TyPVsvRRYRuusc1l6YSMRuUu",
      "include_colab_link": true
    },
    "kernelspec": {
      "name": "python3",
      "display_name": "Python 3"
    },
    "language_info": {
      "name": "python"
    }
  },
  "cells": [
    {
      "cell_type": "markdown",
      "metadata": {
        "id": "view-in-github",
        "colab_type": "text"
      },
      "source": [
        "<a href=\"https://colab.research.google.com/github/linadevinci/td02-Lina-yahiaoui/blob/main/Untitled2.ipynb\" target=\"_parent\"><img src=\"https://colab.research.google.com/assets/colab-badge.svg\" alt=\"Open In Colab\"/></a>"
      ]
    },
    {
      "cell_type": "code",
      "execution_count": null,
      "metadata": {
        "id": "YK4H9ZKUkFKh"
      },
      "outputs": [],
      "source": []
    },
    {
      "cell_type": "markdown",
      "source": [
        "Lien Github :\n",
        "https://github.com/linadevinci/td02-Lina-yahiaoui"
      ],
      "metadata": {
        "id": "_9TvbpaFkIe0"
      }
    },
    {
      "cell_type": "code",
      "source": [
        "!pip install ecdsa"
      ],
      "metadata": {
        "colab": {
          "base_uri": "https://localhost:8080/"
        },
        "id": "1UGvUCDcx632",
        "outputId": "cfac6830-9e50-4626-d15f-3dff1f80567b"
      },
      "execution_count": null,
      "outputs": [
        {
          "output_type": "stream",
          "name": "stdout",
          "text": [
            "Collecting ecdsa\n",
            "  Downloading ecdsa-0.19.0-py2.py3-none-any.whl.metadata (29 kB)\n",
            "Requirement already satisfied: six>=1.9.0 in /usr/local/lib/python3.10/dist-packages (from ecdsa) (1.16.0)\n",
            "Downloading ecdsa-0.19.0-py2.py3-none-any.whl (149 kB)\n",
            "\u001b[2K   \u001b[90m━━━━━━━━━━━━━━━━━━━━━━━━━━━━━━━━━━━━━━━━\u001b[0m \u001b[32m149.3/149.3 kB\u001b[0m \u001b[31m5.2 MB/s\u001b[0m eta \u001b[36m0:00:00\u001b[0m\n",
            "\u001b[?25hInstalling collected packages: ecdsa\n",
            "Successfully installed ecdsa-0.19.0\n"
          ]
        }
      ]
    },
    {
      "cell_type": "code",
      "source": [
        "import secrets\n",
        "import hashlib\n",
        "import binascii\n",
        "import argparse\n",
        "import sys\n",
        "\n",
        "import hashlib\n",
        "import hmac\n",
        "import struct\n",
        "from ecdsa import SigningKey, SECP256k1\n",
        "from ecdsa.util import string_to_number"
      ],
      "metadata": {
        "id": "4ciAcjrCkKSf"
      },
      "execution_count": null,
      "outputs": []
    },
    {
      "cell_type": "code",
      "source": [
        "\n",
        "# Charger la liste de mots BIP39\n",
        "with open('bip39_words.txt', 'r') as f:\n",
        "    BIP39_WORDS = f.read().splitlines()\n",
        "\n"
      ],
      "metadata": {
        "id": "vi5Gbfjflow_"
      },
      "execution_count": null,
      "outputs": []
    },
    {
      "cell_type": "code",
      "source": [
        "def generate_seed(bits: int = 128):\n",
        "    \"\"\"Génère un entier aléatoire sécurisé pour la seed\"\"\"\n",
        "    return secrets.randbits(bits)\n"
      ],
      "metadata": {
        "id": "wgiBxB9eltAD"
      },
      "execution_count": null,
      "outputs": []
    },
    {
      "cell_type": "code",
      "source": [
        "\n",
        "def seed_to_binary(seed: int):\n",
        "    \"\"\"Convertit la seed en binaire\"\"\"\n",
        "    return bin(seed)[2:].zfill(128)  # 128 bits, pad with leading zeros if necessary\n",
        "\n",
        "def split_in_chunks(binary_seed: str, chunk_size: int = 11):\n",
        "    \"\"\"Découpe la seed binaire en lots de 11 bits\"\"\"\n",
        "    return [binary_seed[i:i+chunk_size] for i in range(0, len(binary_seed), chunk_size)]\n",
        "\n",
        "def chunks_to_mnemonic(chunks):\n",
        "    \"\"\"Associe chaque chunk à un mot BIP39.\"\"\"\n",
        "    mnemonic = []\n",
        "    for chunk in chunks:\n",
        "        index = int(chunk, 2)  # Convertir le chunk binaire en entier\n",
        "        mnemonic.append(BIP39_WORDS[index])  # Associer à un mot BIP39\n",
        "    return ' '.join(mnemonic)\n",
        "\n",
        "\n",
        "\n",
        "def mnemonic_to_seed(mnemonic):\n",
        "    \"\"\"Convertit une phrase mnémonique en seed binaire.\"\"\"\n",
        "    words = mnemonic.split(' ')\n",
        "    binary_seed = ''\n",
        "    for word in words:\n",
        "        if word not in BIP39_WORDS:\n",
        "            raise ValueError(f\"Le mot '{word}' n'est pas dans la liste BIP39.\")\n",
        "        index = BIP39_WORDS.index(word)\n",
        "        binary_seed += bin(index)[2:].zfill(11)  # Convertir chaque mot en binaire\n",
        "    return int(binary_seed, 2)\n",
        "\n",
        "\n"
      ],
      "metadata": {
        "id": "tFfENNVdl2kt"
      },
      "execution_count": null,
      "outputs": []
    },
    {
      "cell_type": "code",
      "source": [
        "print(\"Bienvenue dans le générateur BIP39 Seed.\")\n",
        "print(\"1. Générer une nouvelle seed\")\n",
        "print(\"2. Importer une phrase mnémonique\")\n",
        "choice = input(\"Veuillez choisir une option (1 ou 2): \")\n",
        "\n",
        "if choice == '1':\n",
        "    # Générer une seed et afficher la phrase mnémonique\n",
        "    seed = generate_seed()\n",
        "    binary_seed = seed_to_binary(seed)\n",
        "    chunks = split_in_chunks(binary_seed)\n",
        "    mnemonic = chunks_to_mnemonic(chunks)\n",
        "    print(f\"\\nSeed générée (entier): {seed}\")\n",
        "    print(f\"Phrase mnémonique générée: {mnemonic}\")\n",
        "elif choice == '2':\n",
        "    # Demander une phrase mnémonique à l'utilisateur et afficher la seed correspondante\n",
        "    mnemonic = input(\"Veuillez entrer la phrase mnémonique: \")\n",
        "    try:\n",
        "        seed = mnemonic_to_seed(mnemonic)\n",
        "        print(f\"\\nPhrase mnémonique importée: {mnemonic}\")\n",
        "        print(f\"Seed correspondante (entier): {seed}\")\n",
        "    except ValueError as e:\n",
        "        print(f\"Erreur: {e}\")\n",
        "else:\n",
        "    print(\"Option invalide. Veuillez relancer le programme.\")"
      ],
      "metadata": {
        "colab": {
          "base_uri": "https://localhost:8080/"
        },
        "id": "REfAXjfZpEgt",
        "outputId": "d154980a-5215-4dca-a9b9-ad0a908e88a8"
      },
      "execution_count": null,
      "outputs": [
        {
          "output_type": "stream",
          "name": "stdout",
          "text": [
            "Bienvenue dans le générateur BIP39 Seed.\n",
            "1. Générer une nouvelle seed\n",
            "2. Importer une phrase mnémonique\n",
            "Veuillez choisir une option (1 ou 2): 2\n",
            "Veuillez entrer la phrase mnémonique: add oppose tuna garlic kid poverty erupt carbon wage protect hamster artwork\n",
            "\n",
            "Phrase mnémonique importée: add oppose tuna garlic kid poverty erupt carbon wage protect hamster artwork\n",
            "Seed correspondante (entier): 68077392771901247489479967149905291369\n"
          ]
        }
      ]
    },
    {
      "cell_type": "code",
      "source": [
        "\n",
        "# Constants\n",
        "BIP32_HARDENED_OFFSET = 0x80000000\n",
        "BIP32_SEED_KEY = b'Bitcoin seed'\n",
        "\n",
        "# Utilitaire pour générer le hachage SHA512\n",
        "def hmac_sha512(key, data):\n",
        "    return hmac.new(key, data, hashlib.sha512).digest()\n",
        "\n",
        "# Générer la master private key et le chain code à partir de la seed\n",
        "def generate_master_key(seed):\n",
        "    hashed = hmac_sha512(BIP32_SEED_KEY, seed)\n",
        "    master_private_key = hashed[:32]\n",
        "    chain_code = hashed[32:]\n",
        "    return master_private_key, chain_code\n",
        "\n",
        "# Générer la master public key à partir de la private key\n",
        "def private_to_public(private_key):\n",
        "    # Utilise ecdsa pour générer une clé publique\n",
        "    sk = SigningKey.from_string(private_key, curve=SECP256k1)\n",
        "    vk = sk.verifying_key\n",
        "    return b'\\x04' + vk.to_string()  # Préfixe avec 0x04 pour indiquer une clé publique non compressée\n",
        "\n",
        "# Générer une clé enfant à partir d'une clé privée et d'un index (normal ou dérivé)\n",
        "def derive_child_key(parent_private_key, parent_chain_code, index):\n",
        "    if index >= BIP32_HARDENED_OFFSET:\n",
        "        # Clé dérivée (hardened): HMAC avec la clé privée\n",
        "        data = b'\\x00' + parent_private_key + struct.pack('>L', index)\n",
        "    else:\n",
        "        # Clé non dérivée: HMAC avec la clé publique\n",
        "        parent_public_key = private_to_public(parent_private_key)\n",
        "        data = parent_public_key + struct.pack('>L', index)\n",
        "\n",
        "    hashed = hmac_sha512(parent_chain_code, data)\n",
        "    child_private_key = (string_to_number(parent_private_key) + string_to_number(hashed[:32])) % SECP256k1.order\n",
        "    child_private_key = child_private_key.to_bytes(32, 'big')\n",
        "    child_chain_code = hashed[32:]\n",
        "    return child_private_key, child_chain_code\n",
        "\n",
        "# Générer une clé enfant à un index N\n",
        "def derive_child_at_index(master_private_key, master_chain_code, index):\n",
        "    return derive_child_key(master_private_key, master_chain_code, index)\n",
        "\n",
        "# Générer une clé enfant à l'index N et au niveau de dérivation M\n",
        "def derive_child_at_path(master_private_key, master_chain_code, path):\n",
        "    private_key = master_private_key\n",
        "    chain_code = master_chain_code\n",
        "    for index in path:\n",
        "        private_key, chain_code = derive_child_key(private_key, chain_code, index)\n",
        "    return private_key, chain_code\n",
        "\n",
        "# Exemple d'utilisation\n",
        "seed = b'some random seed that is at least 128 bits long'\n",
        "master_private_key, master_chain_code = generate_master_key(seed)\n",
        "\n",
        "print(\"Master Private Key:\", master_private_key.hex())\n",
        "print(\"Master Chain Code:\", master_chain_code.hex())\n",
        "\n",
        "master_public_key = private_to_public(master_private_key)\n",
        "print(\"Master Public Key:\", master_public_key.hex())\n",
        "\n",
        "# Générer une clé enfant (index 0)\n",
        "child_private_key, child_chain_code = derive_child_at_index(master_private_key, master_chain_code, 0)\n",
        "print(\"\\nChild Private Key (index 0):\", child_private_key.hex())\n",
        "print(\"Child Chain Code (index 0):\", child_chain_code.hex())\n",
        "\n",
        "# Générer une clé enfant dérivée à l'index N=1\n",
        "child_private_key_n1, child_chain_code_n1 = derive_child_at_index(master_private_key, master_chain_code, 1)\n",
        "print(\"\\nChild Private Key (index 1):\", child_private_key_n1.hex())\n",
        "print(\"Child Chain Code (index 1):\", child_chain_code_n1.hex())\n",
        "\n",
        "# Générer une clé enfant au niveau de dérivation M=0 avec l'index N=1 (path = [0, 1])\n",
        "child_private_key_m0_n1, child_chain_code_m0_n1 = derive_child_at_path(master_private_key, master_chain_code, [0, 1])\n",
        "print(\"\\nChild Private Key (path [0, 1]):\", child_private_key_m0_n1.hex())\n",
        "print(\"Child Chain Code (path [0, 1]):\", child_chain_code_m0_n1.hex())\n"
      ],
      "metadata": {
        "id": "KA1Q07eQyTWq",
        "outputId": "b58653ab-7101-4784-b1be-4c639a2664ca",
        "colab": {
          "base_uri": "https://localhost:8080/"
        }
      },
      "execution_count": null,
      "outputs": [
        {
          "output_type": "stream",
          "name": "stdout",
          "text": [
            "Master Private Key: b14d27e69cabfeb40ee4571625ce99fb9e45d9753531ba51ddfab039464d076a\n",
            "Master Chain Code: f9518863da1c439bcda8081c05de31dc6624918dac8ced79cb593e3ace08c833\n",
            "Master Public Key: 044792c3954f60511ecdfa7bf44f9552159be6ab1f5cfc3e44e9072f069b96f6917a3cebefeea31049655c30b92e829df31eeaa4dca4bf2c56c15fbc4af7eb3120\n",
            "\n",
            "Child Private Key (index 0): 153eeabf1e158d9f32d80d998b51eb44d48aca1f1e80149c9f17d8fddd8c524c\n",
            "Child Chain Code (index 0): fa27f03db00fa850a028e726db00a343e178a5397b661e0b22d9465286189b28\n",
            "\n",
            "Child Private Key (index 1): fbc8a029f8ea889306b7c3053b7e361c317bd862339d1f745ce32f2018d3816d\n",
            "Child Chain Code (index 1): 10c174300664866a0258f9cc30797f133121288e38d7cf8ffa2d0c66c9f8e8d1\n",
            "\n",
            "Child Private Key (path [0, 1]): 067e646d6cbb9a19d39d542d031f550895d794c33bf24ade757c5339fb25f9e5\n",
            "Child Chain Code (path [0, 1]): 6a16121c334d2f44de289fb46fc6a904be7ec4d183ca561aa2924bc82389056e\n"
          ]
        }
      ]
    }
  ]
}
